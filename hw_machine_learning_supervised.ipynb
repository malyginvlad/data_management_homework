{
 "cells": [
  {
   "cell_type": "markdown",
   "metadata": {},
   "source": [
    "## Валидация моделей классификации\n",
    "\n",
    "Данные"
   ]
  },
  {
   "cell_type": "code",
   "execution_count": 1,
   "metadata": {},
   "outputs": [
    {
     "data": {
      "text/html": [
       "<div>\n",
       "<style scoped>\n",
       "    .dataframe tbody tr th:only-of-type {\n",
       "        vertical-align: middle;\n",
       "    }\n",
       "\n",
       "    .dataframe tbody tr th {\n",
       "        vertical-align: top;\n",
       "    }\n",
       "\n",
       "    .dataframe thead th {\n",
       "        text-align: right;\n",
       "    }\n",
       "</style>\n",
       "<table border=\"1\" class=\"dataframe\">\n",
       "  <thead>\n",
       "    <tr style=\"text-align: right;\">\n",
       "      <th></th>\n",
       "      <th>call_diff</th>\n",
       "      <th>sms_diff</th>\n",
       "      <th>traffic_diff</th>\n",
       "      <th>customes_class</th>\n",
       "    </tr>\n",
       "  </thead>\n",
       "  <tbody>\n",
       "    <tr>\n",
       "      <th>0</th>\n",
       "      <td>-0.666421</td>\n",
       "      <td>0.444911</td>\n",
       "      <td>-0.273538</td>\n",
       "      <td>0</td>\n",
       "    </tr>\n",
       "    <tr>\n",
       "      <th>1</th>\n",
       "      <td>-0.889273</td>\n",
       "      <td>-0.537896</td>\n",
       "      <td>-1.959469</td>\n",
       "      <td>2</td>\n",
       "    </tr>\n",
       "    <tr>\n",
       "      <th>2</th>\n",
       "      <td>-0.841503</td>\n",
       "      <td>0.846665</td>\n",
       "      <td>0.727606</td>\n",
       "      <td>0</td>\n",
       "    </tr>\n",
       "    <tr>\n",
       "      <th>3</th>\n",
       "      <td>1.389749</td>\n",
       "      <td>0.390911</td>\n",
       "      <td>1.789246</td>\n",
       "      <td>1</td>\n",
       "    </tr>\n",
       "    <tr>\n",
       "      <th>4</th>\n",
       "      <td>-1.228211</td>\n",
       "      <td>-1.375899</td>\n",
       "      <td>-1.434209</td>\n",
       "      <td>2</td>\n",
       "    </tr>\n",
       "  </tbody>\n",
       "</table>\n",
       "</div>"
      ],
      "text/plain": [
       "   call_diff  sms_diff  traffic_diff  customes_class\n",
       "0  -0.666421  0.444911     -0.273538               0\n",
       "1  -0.889273 -0.537896     -1.959469               2\n",
       "2  -0.841503  0.846665      0.727606               0\n",
       "3   1.389749  0.390911      1.789246               1\n",
       "4  -1.228211 -1.375899     -1.434209               2"
      ]
     },
     "execution_count": 1,
     "metadata": {},
     "output_type": "execute_result"
    }
   ],
   "source": [
    "import pandas as pd\n",
    "import matplotlib.pyplot as plt\n",
    "from mpl_toolkits.mplot3d import Axes3D\n",
    "import numpy as np\n",
    "\n",
    "%matplotlib inline\n",
    "np.set_printoptions(precision=4)\n",
    "\n",
    "df_source = pd.read_csv(\n",
    "    'data/client_segmentation.csv', \n",
    "    dtype={'call_diff': np.float32, 'call_diff': np.float32, 'traffic_diff': np.float32, 'customes_class': np.uint16}\n",
    ")\n",
    "X = df_source[['call_diff','sms_diff','traffic_diff']].values\n",
    "y = df_source.customes_class.values\n",
    "\n",
    "df_source.head(5)"
   ]
  },
  {
   "cell_type": "markdown",
   "metadata": {},
   "source": [
    "Найдите лучший классификатор по метрике f1-score"
   ]
  },
  {
   "cell_type": "code",
   "execution_count": 19,
   "metadata": {},
   "outputs": [
    {
     "name": "stdout",
     "output_type": "stream",
     "text": [
      "GaussianNB: 0.8564102564102564\n",
      "DecisionTreeClassifier: 0.8676767676767677\n",
      "KNeighborsClassifier: 0.9027777777777778\n",
      "LogisticRegression: 0.9179292929292929\n",
      "RandomForestClassifier: 0.9027777777777778\n",
      "\n",
      "лучший: LogisticRegression\n",
      "f1_score = 0.9179292929292929\n"
     ]
    }
   ],
   "source": [
    "from sklearn.tree  import DecisionTreeClassifier\n",
    "from sklearn.naive_bayes import GaussianNB\n",
    "from sklearn.neighbors import KNeighborsClassifier\n",
    "from sklearn.linear_model import LogisticRegression\n",
    "from sklearn.ensemble import RandomForestClassifier\n",
    "from sklearn.model_selection  import train_test_split\n",
    "from sklearn.metrics import f1_score\n",
    "\n",
    "\n",
    "X_train, X_test, y_train, y_test = train_test_split(X, y, test_size=0.3, random_state=42)\n",
    "\n",
    "scores = {}\n",
    "\n",
    "gaus = GaussianNB()\n",
    "gaus.fit(X_train, y_train)\n",
    "y_pred = gaus.predict(X_test)\n",
    "f1 = f1_score(y_test, y_pred, average='macro')\n",
    "scores['GaussianNB'] = f1\n",
    "print('GaussianNB: ' + str(f1))\n",
    "\n",
    "tree = DecisionTreeClassifier()\n",
    "tree.fit(X_train, y_train)\n",
    "y_pred = tree.predict(X_test)\n",
    "f1 = f1_score(y_test, y_pred, average='macro')\n",
    "scores['DecisionTreeClassifier'] = f1\n",
    "print('DecisionTreeClassifier: ' + str(f1))\n",
    "\n",
    "knn = KNeighborsClassifier(p=1)\n",
    "knn.fit(X_train, y_train)\n",
    "y_pred = knn.predict(X_test)\n",
    "f1 = f1_score(y_test, y_pred, average='macro')\n",
    "scores['KNeighborsClassifier'] = f1\n",
    "print('KNeighborsClassifier: ' + str(f1))\n",
    "\n",
    "lr = LogisticRegression(C=10)\n",
    "lr.fit(X_train, y_train)\n",
    "y_pred = lr.predict(X_test)\n",
    "f1 = f1_score(y_test, y_pred, average='macro')\n",
    "scores['LogisticRegression'] = f1\n",
    "print('LogisticRegression: '+str(f1))\n",
    "\n",
    "rf = RandomForestClassifier()\n",
    "rf.fit(X_train, y_train)\n",
    "y_pred = rf.predict(X_test)\n",
    "f1 = f1_score(y_test, y_pred, average='macro')\n",
    "scores['RandomForestClassifier'] = f1\n",
    "print('RandomForestClassifier: '+str(f1))\n",
    "print()\n",
    "print('лучший: {}'.format(list(scores.keys())[list(scores.values()).index(max(scores.values()))])) \n",
    "print('f1_score = {}'.format(max(scores.values())))"
   ]
  },
  {
   "cell_type": "markdown",
   "metadata": {},
   "source": [
    "## Валидация моделей линейной регрессии\n",
    "\n",
    "Пользуясь методом .score подберите наилучшее значение степени полинома"
   ]
  },
  {
   "cell_type": "code",
   "execution_count": 22,
   "metadata": {},
   "outputs": [
    {
     "data": {
      "image/png": "[encoded data removed]",
      "text/plain": [
       "<Figure size 432x288 with 1 Axes>"
      ]
     },
     "metadata": {
      "needs_background": "light"
     },
     "output_type": "display_data"
    }
   ],
   "source": [
    "import pandas as pd\n",
    "import numpy as np\n",
    "from sklearn.model_selection import train_test_split\n",
    "from sklearn.linear_model import LinearRegression\n",
    "\n",
    "import matplotlib.pyplot as plt\n",
    "%matplotlib inline\n",
    "\n",
    "df = pd.read_csv('data/content_views_toy_set.csv', encoding='utf8')\n",
    "df.plot.scatter(x='time', y='content_views')\n",
    "plt.show()\n",
    "\n",
    "X = df['time'].values\n",
    "y = df['content_views'].values\n",
    "\n",
    "X_train, X_test, y_train, y_test = train_test_split(X, y, test_size=0.33, random_state=42)\n",
    "reg = LinearRegression().fit(X_train.reshape(-1, 1), y_train)\n"
   ]
  },
  {
   "cell_type": "code",
   "execution_count": 23,
   "metadata": {},
   "outputs": [
    {
     "data": {
      "image/png": "[encoded data removed]",
      "text/plain": [
       "<Figure size 432x288 with 1 Axes>"
      ]
     },
     "metadata": {
      "needs_background": "light"
     },
     "output_type": "display_data"
    }
   ],
   "source": [
    "def generate_degrees(source_data: list, degree: int):\n",
    "    \"\"\"Функция, которая принимает на вход одномерный массив, а возвращает n-мерный\n",
    "    Для каждой степени от 1 до  degree возводим x в эту степень\n",
    "    \"\"\"\n",
    "    return np.array([\n",
    "          source_data**n for n in range(1, degree + 1)  \n",
    "    ]).T\n",
    "\n",
    "X_train_5 = generate_degrees(X_train, 5)\n",
    "X_test_5 = generate_degrees(X_test, 5)\n",
    "reg_5 = LinearRegression().fit(X_train_5, y_train)\n",
    "\n",
    "# строим график\n",
    "margin = 0.3\n",
    "support = np.arange(X.min(), X.max(), step=0.1)\n",
    "\n",
    "X_test_support = generate_degrees(support, 5)\n",
    "y_hat = reg_5.predict(X_test_support)\n",
    "\n",
    "plt.plot(support, y_hat, 'b--', alpha=0.5, label='prediction')\n",
    "plt.scatter(X_train, y_train, 40, 'g', 'o', alpha=0.8, label='data')\n",
    "plt.xlim(X.min() - margin, X.max() + margin)\n",
    "plt.ylim(y.min() - margin, y.max() + margin)\n",
    "plt.legend(loc='upper right', prop={'size': 20})\n",
    "plt.title('Fitted linear regression')\n",
    "plt.xlabel('x')\n",
    "plt.ylabel('y')\n",
    "plt.show()"
   ]
  },
  {
   "cell_type": "code",
   "execution_count": 24,
   "metadata": {},
   "outputs": [
    {
     "data": {
      "image/png": "[encoded data removed]",
      "text/plain": [
       "<Figure size 432x288 with 1 Axes>"
      ]
     },
     "metadata": {
      "needs_background": "light"
     },
     "output_type": "display_data"
    },
    {
     "name": "stdout",
     "output_type": "stream",
     "text": [
      "Степень полинома = 3\n",
      "Качество модели = 0.9313123641187698\n",
      "Коэффициенты линейной регрессии w = [ 1.9519 -0.9423  0.1039]\n"
     ]
    },
    {
     "data": {
      "image/png": "[encoded data removed]",
      "text/plain": [
       "<Figure size 432x288 with 1 Axes>"
      ]
     },
     "metadata": {
      "needs_background": "light"
     },
     "output_type": "display_data"
    }
   ],
   "source": [
    "score_list = []\n",
    "for i in range(1, 11):\n",
    "    X_train_i = generate_degrees(X_train, i)\n",
    "    X_test_i = generate_degrees(X_test, i)\n",
    "    reg_i = LinearRegression().fit(X_train_i, y_train)\n",
    "    y_pred_i = reg_i.predict(X_test_i)\n",
    "    score_list.append(reg_i.score(X_test_i, y_test))\n",
    "\n",
    "plt.plot(np.arange(1,11), score_list)\n",
    "plt.grid()\n",
    "plt.xlabel('степень полинома')\n",
    "plt.ylabel('score')\n",
    "plt.show()\n",
    "    \n",
    "    \n",
    "print('Степень полинома = {}'.format(score_list.index(max(score_list))+1))\n",
    "print('Качество модели = {}'.format(max(score_list)))\n",
    "\n",
    "X_train_max = generate_degrees(X_train, score_list.index(max(score_list))+1)\n",
    "reg_max = LinearRegression().fit(X_train_max, y_train)\n",
    "\n",
    "print('Коэффициенты линейной регрессии w = {}'.format(reg_max.coef_))\n",
    "\n",
    "X_test_support = generate_degrees(support, score_list.index(max(score_list))+1)\n",
    "y_hat = reg_max.predict(X_test_support)\n",
    "\n",
    "plt.plot(support, y_hat, 'b--', alpha=0.5, label='prediction')\n",
    "plt.scatter(X_train, y_train, 40, 'g', 'o', alpha=0.8, label='data')\n",
    "plt.xlim(X.min() - margin, X.max() + margin)\n",
    "plt.ylim(y.min() - margin, y.max() + margin)\n",
    "plt.legend()\n",
    "plt.xlabel('x')\n",
    "plt.ylabel('y')\n",
    "plt.show()"
   ]
  }
 ],
 "metadata": {
  "kernelspec": {
   "display_name": "Python 3",
   "language": "python",
   "name": "python3"
  },
  "language_info": {
   "codemirror_mode": {
    "name": "ipython",
    "version": 3
   },
   "file_extension": ".py",
   "mimetype": "text/x-python",
   "name": "python",
   "nbconvert_exporter": "python",
   "pygments_lexer": "ipython3",
   "version": "3.7.1"
  }
 },
 "nbformat": 4,
 "nbformat_minor": 4
}
